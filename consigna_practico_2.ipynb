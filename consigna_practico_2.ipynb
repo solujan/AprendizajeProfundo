{
 "cells": [
  {
   "cell_type": "markdown",
   "metadata": {},
   "source": [
    "# Práctico 2 - Redes en escalera avanzadas\n",
    "\n",
    "Este práctico es similar al práctico 1, pero agregará un paso extra que es el uso de redes en escalera avanzadas, ya sean Redes Convolucionales o Redes Recurrentes.\n",
    "\n",
    "Se les dará, como base, el mismo conjunto de datos de la competencia \"PetFinder\" que se trabajó para el práctico 1, con el agregado de, en este caso, utilizar la descripción como un feature extra y todo el procesamiento que ello requiere.\n",
    "\n",
    "Ahora bien, no es el único conjunto de datos que pueden trabajar. Si tienen un conjunto propio de datos que quieran utilizar y dicho conjunto se preste para el uso de alguna red en escalera avanzada (e.g. conjuntos que tengan imágenes o texto), son libres de hacerlo."
   ]
  },
  {
   "cell_type": "code",
   "execution_count": 1,
   "metadata": {
    "scrolled": false
   },
   "outputs": [
    {
     "name": "stderr",
     "output_type": "stream",
     "text": [
      "[nltk_data] Downloading package punkt to\n",
      "[nltk_data]     /home/ccardellino/nltk_data...\n",
      "[nltk_data]   Package punkt is already up-to-date!\n",
      "[nltk_data] Downloading package stopwords to\n",
      "[nltk_data]     /home/ccardellino/nltk_data...\n",
      "[nltk_data]   Package stopwords is already up-to-date!\n"
     ]
    }
   ],
   "source": [
    "import nltk\n",
    "import numpy as np\n",
    "import os\n",
    "import pandas as pd\n",
    "import tensorflow as tf\n",
    "\n",
    "from IPython.display import SVG\n",
    "from gensim import corpora\n",
    "from nltk import word_tokenize\n",
    "from nltk.corpus import stopwords\n",
    "from pprint import pprint\n",
    "\n",
    "nltk.download([\"punkt\", \"stopwords\"]);"
   ]
  },
  {
   "cell_type": "markdown",
   "metadata": {},
   "source": [
    "## Carga de los datos"
   ]
  },
  {
   "cell_type": "code",
   "execution_count": 2,
   "metadata": {},
   "outputs": [],
   "source": [
    "DATA_DIRECTORY = '../petfinder_dataset/'"
   ]
  },
  {
   "cell_type": "code",
   "execution_count": 3,
   "metadata": {},
   "outputs": [
    {
     "data": {
      "text/html": [
       "<div>\n",
       "<style scoped>\n",
       "    .dataframe tbody tr th:only-of-type {\n",
       "        vertical-align: middle;\n",
       "    }\n",
       "\n",
       "    .dataframe tbody tr th {\n",
       "        vertical-align: top;\n",
       "    }\n",
       "\n",
       "    .dataframe thead th {\n",
       "        text-align: right;\n",
       "    }\n",
       "</style>\n",
       "<table border=\"1\" class=\"dataframe\">\n",
       "  <thead>\n",
       "    <tr style=\"text-align: right;\">\n",
       "      <th></th>\n",
       "      <th>Type</th>\n",
       "      <th>Age</th>\n",
       "      <th>Breed1</th>\n",
       "      <th>Breed2</th>\n",
       "      <th>Gender</th>\n",
       "      <th>Color1</th>\n",
       "      <th>Color2</th>\n",
       "      <th>Color3</th>\n",
       "      <th>MaturitySize</th>\n",
       "      <th>FurLength</th>\n",
       "      <th>Vaccinated</th>\n",
       "      <th>Dewormed</th>\n",
       "      <th>Sterilized</th>\n",
       "      <th>Health</th>\n",
       "      <th>Quantity</th>\n",
       "      <th>Fee</th>\n",
       "      <th>State</th>\n",
       "      <th>Description</th>\n",
       "      <th>AdoptionSpeed</th>\n",
       "      <th>PID</th>\n",
       "    </tr>\n",
       "  </thead>\n",
       "  <tbody>\n",
       "    <tr>\n",
       "      <th>0</th>\n",
       "      <td>2</td>\n",
       "      <td>3</td>\n",
       "      <td>299</td>\n",
       "      <td>0</td>\n",
       "      <td>1</td>\n",
       "      <td>1</td>\n",
       "      <td>7</td>\n",
       "      <td>0</td>\n",
       "      <td>1</td>\n",
       "      <td>1</td>\n",
       "      <td>2</td>\n",
       "      <td>2</td>\n",
       "      <td>2</td>\n",
       "      <td>1</td>\n",
       "      <td>1</td>\n",
       "      <td>100</td>\n",
       "      <td>41326</td>\n",
       "      <td>Nibble is a 3+ month old ball of cuteness. He ...</td>\n",
       "      <td>2</td>\n",
       "      <td>0</td>\n",
       "    </tr>\n",
       "    <tr>\n",
       "      <th>1</th>\n",
       "      <td>1</td>\n",
       "      <td>4</td>\n",
       "      <td>307</td>\n",
       "      <td>0</td>\n",
       "      <td>2</td>\n",
       "      <td>1</td>\n",
       "      <td>2</td>\n",
       "      <td>0</td>\n",
       "      <td>2</td>\n",
       "      <td>1</td>\n",
       "      <td>1</td>\n",
       "      <td>1</td>\n",
       "      <td>2</td>\n",
       "      <td>1</td>\n",
       "      <td>1</td>\n",
       "      <td>150</td>\n",
       "      <td>41401</td>\n",
       "      <td>Good guard dog, very alert, active, obedience ...</td>\n",
       "      <td>2</td>\n",
       "      <td>3</td>\n",
       "    </tr>\n",
       "    <tr>\n",
       "      <th>2</th>\n",
       "      <td>1</td>\n",
       "      <td>1</td>\n",
       "      <td>307</td>\n",
       "      <td>0</td>\n",
       "      <td>1</td>\n",
       "      <td>1</td>\n",
       "      <td>0</td>\n",
       "      <td>0</td>\n",
       "      <td>2</td>\n",
       "      <td>1</td>\n",
       "      <td>2</td>\n",
       "      <td>2</td>\n",
       "      <td>2</td>\n",
       "      <td>1</td>\n",
       "      <td>1</td>\n",
       "      <td>0</td>\n",
       "      <td>41326</td>\n",
       "      <td>This handsome yet cute boy is up for adoption....</td>\n",
       "      <td>2</td>\n",
       "      <td>4</td>\n",
       "    </tr>\n",
       "  </tbody>\n",
       "</table>\n",
       "</div>"
      ],
      "text/plain": [
       "   Type  Age  Breed1  Breed2  Gender  Color1  Color2  Color3  MaturitySize  \\\n",
       "0     2    3     299       0       1       1       7       0             1   \n",
       "1     1    4     307       0       2       1       2       0             2   \n",
       "2     1    1     307       0       1       1       0       0             2   \n",
       "\n",
       "   FurLength  Vaccinated  Dewormed  Sterilized  Health  Quantity  Fee  State  \\\n",
       "0          1           2         2           2       1         1  100  41326   \n",
       "1          1           1         1           2       1         1  150  41401   \n",
       "2          1           2         2           2       1         1    0  41326   \n",
       "\n",
       "                                         Description  AdoptionSpeed  PID  \n",
       "0  Nibble is a 3+ month old ball of cuteness. He ...              2    0  \n",
       "1  Good guard dog, very alert, active, obedience ...              2    3  \n",
       "2  This handsome yet cute boy is up for adoption....              2    4  "
      ]
     },
     "execution_count": 3,
     "metadata": {},
     "output_type": "execute_result"
    }
   ],
   "source": [
    "dataset = pd.read_csv(os.path.join(DATA_DIRECTORY, 'train.csv'))\n",
    "\n",
    "target_col = 'AdoptionSpeed'\n",
    "nlabels = dataset[target_col].unique().shape[0]\n",
    "\n",
    "dataset.head(3)"
   ]
  },
  {
   "cell_type": "markdown",
   "metadata": {},
   "source": [
    "## Preproceso del texto para agregarlo como feature (manejo de secuencias)\n",
    "\n",
    "A diferencia del práctico anterior, en este caso es necesario utilizar el texto como feature extra. Pueden luego agregarlo a una red recurrente o convolucional y concatenar su salida a los atributos \"escalares\" (como \"raza\" o \"género\").\n",
    "\n",
    "A continuación les mostraremos los pasos a seguir para ello. La descripción detallada de para que sirve cada paso se encuentra disponible en el [notebook 3](./3_cnns.ipynb).\n",
    "\n",
    "### Tokenización"
   ]
  },
  {
   "cell_type": "code",
   "execution_count": 4,
   "metadata": {},
   "outputs": [],
   "source": [
    "SW = set(stopwords.words(\"english\"))\n",
    "\n",
    "def tokenize_description(description):\n",
    "    return [w.lower() for w in word_tokenize(description, language=\"english\") if w.lower() not in SW]\n",
    "\n",
    "# Fill the null values with the empty string to avoid errors with NLTK tokenization\n",
    "dataset[\"TokenizedDescription\"] = dataset[\"Description\"].fillna(value=\"\").apply(tokenize_description)"
   ]
  },
  {
   "cell_type": "markdown",
   "metadata": {},
   "source": [
    "#### Tamaño de las descripciones\n",
    "\n",
    "Un punto importante a tener en cuenta es que las descripciones tienen tamaño variable, y esto no es compatible con los algoritmos de aprendizaje automático. Por lo que hay que llevar las secuencias a un tamaño uniforme.\n",
    "\n",
    "Para definir dicho tamaño uniforme, es útil mirar qué tamaños mínimos, máximos y medios manejan las descripciones y a partir de esto establecer el tamaño máximo de la secuencia."
   ]
  },
  {
   "cell_type": "code",
   "execution_count": 5,
   "metadata": {},
   "outputs": [
    {
     "name": "stdout",
     "output_type": "stream",
     "text": [
      "count    10582.000000\n",
      "mean        44.419486\n",
      "std         48.465910\n",
      "min          0.000000\n",
      "25%         16.000000\n",
      "50%         31.000000\n",
      "75%         55.000000\n",
      "max        803.000000\n",
      "Name: TokenizedDescription, dtype: float64\n"
     ]
    }
   ],
   "source": [
    "pprint(dataset[\"TokenizedDescription\"].apply(len).describe())"
   ]
  },
  {
   "cell_type": "markdown",
   "metadata": {},
   "source": [
    "Vemos que más del 75% de las secuencias tienen 55 palabras o menos. Esto es un buen punto de partida, así que podemos establecer el tamaño máximo de las secuencia en 55 palabras."
   ]
  },
  {
   "cell_type": "code",
   "execution_count": 6,
   "metadata": {},
   "outputs": [],
   "source": [
    "MAX_SEQUENCE_LEN = 55"
   ]
  },
  {
   "cell_type": "markdown",
   "metadata": {},
   "source": [
    "## Vocabulario"
   ]
  },
  {
   "cell_type": "code",
   "execution_count": 7,
   "metadata": {},
   "outputs": [],
   "source": [
    "vocabulary = corpora.Dictionary(dataset[\"TokenizedDescription\"])\n",
    "vocabulary.filter_extremes(no_below=1, no_above=1.0, keep_n=10000)"
   ]
  },
  {
   "cell_type": "markdown",
   "metadata": {},
   "source": [
    "## Word Embeddings (GloVe)"
   ]
  },
  {
   "cell_type": "code",
   "execution_count": 8,
   "metadata": {},
   "outputs": [
    {
     "name": "stdout",
     "output_type": "stream",
     "text": [
      "Found 7897 word vectors.\n"
     ]
    }
   ],
   "source": [
    "embeddings_index = {}\n",
    "\n",
    "with open(\"./dataset/glove.6B.100d.txt\", \"r\") as fh:\n",
    "    for line in fh:\n",
    "        values = line.split()\n",
    "        word = values[0]\n",
    "        if word in vocabulary.token2id:  # Only use the embeddings of words in our vocabulary\n",
    "            coefs = np.asarray(values[1:], dtype='float32')\n",
    "            embeddings_index[word] = coefs\n",
    "\n",
    "print(\"Found {} word vectors.\".format(len(embeddings_index)))"
   ]
  },
  {
   "cell_type": "markdown",
   "metadata": {},
   "source": [
    "## Creación de los datasets\n",
    "\n",
    "Similar al práctico anterior, tendremos datos que serán \"one-hot-encoded\", otros serán \"embeddings\" y otros serán numéricos.\n",
    "\n",
    "El caso particular del texto es que será tratado como una secuencia de embeddings, y dichos embeddings no serán entrenados en conjunto con la red, sino que serán tomados de un modelo \"pre-entrenado\". En este caso utilizamos GloVe, pero podríamos haber utilizado otro modelo (e.g. FastText)."
   ]
  },
  {
   "cell_type": "code",
   "execution_count": 9,
   "metadata": {},
   "outputs": [],
   "source": [
    "# It's important to always use the same one-hot length\n",
    "one_hot_columns = {\n",
    "    one_hot_col: dataset[one_hot_col].max()\n",
    "    for one_hot_col in ['Gender', 'Color1']\n",
    "}\n",
    "embedded_columns = {\n",
    "    embedded_col: dataset[embedded_col].max() + 1\n",
    "    for embedded_col in ['Breed1']\n",
    "}\n",
    "numeric_columns = ['Age', 'Fee']"
   ]
  },
  {
   "cell_type": "markdown",
   "metadata": {},
   "source": [
    "## Generador del conjunto de datos\n",
    "\n",
    "Dada la naturaleza de los datos de texto, y que estos representan una secuencia de datos (que se da luego a una red recurrente o convolucional), en este caso no crearemos los datasets de antemano, sino que los generaremos a medida que el algoritmo de entrenamiento los pida. \n",
    "\n",
    "En particular, es porque las secuencias de texto pueden no tener el mismo tamaño (las oraciones tienen diferente cantidad de palabras), pero para que los modelos de redes las acepten, necesitamos rellenarlas (*padding*) de manera que todas tengan el mismo tamaño.\n",
    "\n",
    "En este paso también vamos a truncar aquellas secuencias de descripciones con más de `MAX_SEQUENCE_LEN` palabras, de manera que al hacer uso de `padded_batch` no lance un error al encontrarse con secuencias de tamaño mayor."
   ]
  },
  {
   "cell_type": "code",
   "execution_count": 10,
   "metadata": {},
   "outputs": [
    {
     "name": "stdout",
     "output_type": "stream",
     "text": [
      "{'Breed1': <tf.Tensor: id=37, shape=(1,), dtype=int32, numpy=array([299], dtype=int32)>,\n",
      " 'description': <tf.Tensor: id=38, shape=(42,), dtype=int32, numpy=\n",
      "array([23,  2, 20, 24,  4, 10,  1, 11, 26,  1, 27,  9,  6, 21,  3,  8, 15,\n",
      "       22, 33,  7, 13, 30,  1, 29, 18, 17,  1, 12, 31, 14,  5,  6, 16,  1,\n",
      "       19, 28, 25, 32, 23,  0,  5,  1], dtype=int32)>,\n",
      " 'direct_features': <tf.Tensor: id=39, shape=(10,), dtype=float32, numpy=array([1., 0., 0., 1., 0., 0., 0., 0., 0., 0.], dtype=float32)>}\n",
      "<tf.Tensor: id=40, shape=(5,), dtype=int32, numpy=array([0, 0, 1, 0, 0], dtype=int32)>\n",
      "\n",
      "{'Breed1': <tf.Tensor: id=41, shape=(1,), dtype=int32, numpy=array([307], dtype=int32)>,\n",
      " 'description': <tf.Tensor: id=42, shape=(24,), dtype=int32, numpy=\n",
      "array([41, 42, 40, 35, 37, 35, 36, 35, 45, 50, 41, 44, 35, 46, 38, 48, 39,\n",
      "       47, 15, 43, 35, 49, 34, 34], dtype=int32)>,\n",
      " 'direct_features': <tf.Tensor: id=43, shape=(10,), dtype=float32, numpy=array([0., 1., 0., 1., 0., 0., 0., 0., 0., 0.], dtype=float32)>}\n",
      "<tf.Tensor: id=44, shape=(5,), dtype=int32, numpy=array([0, 0, 1, 0, 0], dtype=int32)>\n",
      "\n"
     ]
    }
   ],
   "source": [
    "def dataset_generator(ds, test_data=False):\n",
    "    for _, row in ds.iterrows():\n",
    "        instance = {}\n",
    "        \n",
    "        # One hot encoded features\n",
    "        instance[\"direct_features\"] = np.hstack([\n",
    "            tf.keras.utils.to_categorical(row[one_hot_col] - 1, max_value)\n",
    "            for one_hot_col, max_value in one_hot_columns.items()\n",
    "        ])\n",
    "\n",
    "        # Numeric features (should be normalized beforehand)\n",
    "        # TODO: Add numeric features for row\n",
    "        \n",
    "        # Embedded features\n",
    "        for embedded_col in embedded_columns:\n",
    "            instance[embedded_col] = [row[embedded_col]]\n",
    "        \n",
    "        # Document to indices for text data, truncated at MAX_SEQUENCE_LEN words\n",
    "        instance[\"description\"] = vocabulary.doc2idx(\n",
    "            row[\"TokenizedDescription\"],\n",
    "            unknown_word_index=len(vocabulary)\n",
    "        )[:MAX_SEQUENCE_LEN]\n",
    "        \n",
    "        # One hot encoded target for categorical crossentropy\n",
    "        if not test_data:\n",
    "            target = tf.keras.utils.to_categorical(row[target_col], nlabels)\n",
    "            yield instance, target\n",
    "        else:\n",
    "            yield instance\n",
    "\n",
    "# Set output types of the generator (for numeric types check the type is valid)\n",
    "instance_types = {\n",
    "    \"direct_features\": tf.float32,\n",
    "    \"description\": tf.int32\n",
    "}\n",
    "\n",
    "for embedded_col in embedded_columns:\n",
    "    instance_types[embedded_col] = tf.int32\n",
    "        \n",
    "tf_dataset = tf.data.Dataset.from_generator(\n",
    "    lambda: dataset_generator(dataset),\n",
    "    output_types=(instance_types, tf.int32)\n",
    ")\n",
    "\n",
    "for data, target in tf_dataset.take(2):\n",
    "    pprint(data)\n",
    "    pprint(target)\n",
    "    print()"
   ]
  },
  {
   "cell_type": "markdown",
   "metadata": {},
   "source": [
    "## Datos de entrenamiento y validación\n",
    "\n",
    "Ya generado el conjunto de datos base, tenemos que dividirlo en entrenamiento y validación. Además, como vamos a utilizar algunos datos que forman secuencias, los lotes (*batches*) de datos deben estar \"rellenados\" (*padded_batch*). \n",
    "\n",
    "Si bien rellenaremos \"todos\" los atributos, en la práctica el único que efectivamente se rellenará es el de *description* pues es el único con tamaños distintos."
   ]
  },
  {
   "cell_type": "code",
   "execution_count": 11,
   "metadata": {},
   "outputs": [],
   "source": [
    "TRAIN_SIZE = int(dataset.shape[0] * 0.8)\n",
    "DEV_SIZE = dataset.shape[0] - TRAIN_SIZE\n",
    "BATCH_SIZE = 128\n",
    "\n",
    "shuffled_dataset = tf_dataset.shuffle(TRAIN_SIZE + DEV_SIZE, seed=42)\n",
    "\n",
    "# Pad the datasets to the max value for all the \"non sequence\" features\n",
    "padding_shapes = (\n",
    "    {k: [-1] for k in [\"direct_features\"] + list(embedded_columns.keys())},\n",
    "    [-1]\n",
    ")\n",
    "\n",
    "# Pad to MAX_SEQUENCE_LEN for sequence features\n",
    "padding_shapes[0][\"description\"] = [MAX_SEQUENCE_LEN]\n",
    "\n",
    "# Pad values are irrelevant for non padded data\n",
    "padding_values = (\n",
    "    {k: 0 for k in list(embedded_columns.keys())},\n",
    "    0\n",
    ")\n",
    "\n",
    "# Padding value for direct features should be a float\n",
    "padding_values[0][\"direct_features\"] = np.float32(0)\n",
    "\n",
    "# Padding value for sequential features is the vocabulary length + 1\n",
    "padding_values[0][\"description\"] = len(vocabulary) + 1\n",
    "\n",
    "train_dataset = shuffled_dataset.skip(DEV_SIZE)\\\n",
    "    .padded_batch(BATCH_SIZE, padded_shapes=padding_shapes, padding_values=padding_values)\n",
    "\n",
    "dev_dataset = shuffled_dataset.take(DEV_SIZE)\\\n",
    "    .padded_batch(BATCH_SIZE, padded_shapes=padding_shapes, padding_values=padding_values)"
   ]
  },
  {
   "cell_type": "markdown",
   "metadata": {},
   "source": [
    "## Construyendo el modelo\n",
    "\n",
    "Al modelo anterior tenemos que agregarle la capa que maneje los embeddings de las palabras, e inicializarla de manera acorde, podemos guiarnos por lo visto en el [notebook 3](./3_cnns.ipynb) para hacer esto.\n",
    "\n",
    "### Matriz de embeddings de palabras"
   ]
  },
  {
   "cell_type": "code",
   "execution_count": 12,
   "metadata": {},
   "outputs": [],
   "source": [
    "EMBEDDINGS_DIM = 100  # Given by the model (in this case glove.6B.100d)\n",
    "\n",
    "embedding_matrix = np.zeros((len(vocabulary) + 2, 100))\n",
    "\n",
    "for widx, word in vocabulary.items():\n",
    "    embedding_vector = embeddings_index.get(word)\n",
    "    if embedding_vector is not None:\n",
    "        embedding_matrix[widx] = embedding_vector\n",
    "    else:\n",
    "        # Random normal initialization for words without embeddings\n",
    "        embedding_matrix[widx] = np.random.normal(size=(100,))  \n",
    "\n",
    "# Random normal initialization for unknown words\n",
    "embedding_matrix[len(vocabulary)] = np.random.normal(size=(100,))"
   ]
  },
  {
   "cell_type": "markdown",
   "metadata": {},
   "source": [
    "### Definiendo los inputs del modelo\n",
    "\n",
    "Definamos los inputs del modelo, con el agregado de la capa de embeddings de palabras inicializada en `embedding_matrix`."
   ]
  },
  {
   "cell_type": "code",
   "execution_count": 13,
   "metadata": {},
   "outputs": [
    {
     "name": "stdout",
     "output_type": "stream",
     "text": [
      "Adding embedding of size 77 for layer Breed1\n"
     ]
    }
   ],
   "source": [
    "tf.keras.backend.clear_session()\n",
    "\n",
    "# Add one input and one embedding for each embedded column\n",
    "embedding_layers = []\n",
    "inputs = []\n",
    "for embedded_col, max_value in embedded_columns.items():\n",
    "    input_layer = tf.keras.layers.Input(shape=(1,), name=embedded_col)\n",
    "    inputs.append(input_layer)\n",
    "    # Define the embedding layer\n",
    "    embedding_size = int(max_value / 4)\n",
    "    embedding_layers.append(\n",
    "        tf.squeeze(\n",
    "            tf.keras.layers.Embedding(\n",
    "                input_dim=max_value, \n",
    "                output_dim=embedding_size\n",
    "            )(input_layer), \n",
    "            axis=-2\n",
    "        )\n",
    "    )\n",
    "    print('Adding embedding of size {} for layer {}'.format(embedding_size, embedded_col))\n",
    "\n",
    "# Add the direct features already calculated\n",
    "direct_features_input = tf.keras.layers.Input(\n",
    "    shape=(sum(one_hot_columns.values()),), \n",
    "    name='direct_features'\n",
    ")\n",
    "inputs.append(direct_features_input)\n",
    "\n",
    "# Word embedding layer\n",
    "description_input = tf.keras.layers.Input(shape=(MAX_SEQUENCE_LEN,), name=\"description\")\n",
    "inputs.append(description_input)\n",
    "\n",
    "word_embeddings_layer = tf.keras.layers.Embedding(\n",
    "    embedding_matrix.shape[0],\n",
    "    EMBEDDINGS_DIM,\n",
    "    weights=[embedding_matrix],\n",
    "    input_length=MAX_SEQUENCE_LEN,\n",
    "    trainable=False,\n",
    "    name=\"word_embedding\"\n",
    ")(description_input)"
   ]
  },
  {
   "cell_type": "markdown",
   "metadata": {},
   "source": [
    "### Definiendo la red que trabajará con el texto\n",
    "\n",
    "Antes de generar el *feature map* final entre los inputs y las clases, tenemos que generar el *feature map* de las secuencias de texto. \n",
    "\n",
    "Para ello pueden utilizar una red neuronal recurrente o convolucional.\n",
    "\n",
    "Pueden pensar dicha red como un submodelo del modelo general que se encarga de generar los atributos que representan la descripción de la mascota (recordemos que las redes se utilizan para hacer aprendizaje de representaciones).\n",
    "\n",
    "La red puede ser tan compleja como ustedes lo consideren pertinente."
   ]
  },
  {
   "cell_type": "code",
   "execution_count": 14,
   "metadata": {},
   "outputs": [],
   "source": [
    "## TODO: Create a NN (CNN or RNN) for the description input (replace the next)\n",
    "DESCRIPTION_FEATURES_LAYER_SIZE = 512\n",
    "\n",
    "description_features = tf.keras.layers.Flatten()(word_embeddings_layer)  # This is a simple concatenation\n",
    "description_features = tf.keras.layers.Dense(\n",
    "    units=DESCRIPTION_FEATURES_LAYER_SIZE, \n",
    "    activation=\"relu\", \n",
    "    name=\"description_features\")(description_features)"
   ]
  },
  {
   "cell_type": "markdown",
   "metadata": {},
   "source": [
    "### Definiendo el *feature map* final de la red\n",
    "\n",
    "Ahora que tenemos nuestra representación de las descripciones, pasamos a combinarlo con los demás features en la última parte de nuestra red."
   ]
  },
  {
   "cell_type": "code",
   "execution_count": 15,
   "metadata": {},
   "outputs": [],
   "source": [
    "HIDDEN_LAYER_SIZE = 128\n",
    "\n",
    "feature_map = tf.keras.layers.Concatenate(name=\"feature_map\")(\n",
    "    embedding_layers + [description_features, direct_features_input]\n",
    ")\n",
    "\n",
    "hidden_layer = tf.keras.layers.Dense(HIDDEN_LAYER_SIZE, activation=\"relu\")(feature_map)\n",
    "output_layer = tf.keras.layers.Dense(nlabels, activation=\"softmax\", name=\"output\")(hidden_layer)\n",
    "\n",
    "model = tf.keras.models.Model(inputs=inputs, outputs=[output_layer], name=\"amazing_model\")"
   ]
  },
  {
   "cell_type": "markdown",
   "metadata": {},
   "source": [
    "### Compilando y visualizando el modelo"
   ]
  },
  {
   "cell_type": "code",
   "execution_count": 16,
   "metadata": {},
   "outputs": [
    {
     "name": "stdout",
     "output_type": "stream",
     "text": [
      "Model: \"amazing_model\"\n",
      "__________________________________________________________________________________________________\n",
      "Layer (type)                    Output Shape         Param #     Connected to                     \n",
      "==================================================================================================\n",
      "description (InputLayer)        [(None, 55)]         0                                            \n",
      "__________________________________________________________________________________________________\n",
      "Breed1 (InputLayer)             [(None, 1)]          0                                            \n",
      "__________________________________________________________________________________________________\n",
      "word_embedding (Embedding)      (None, 55, 100)      1000200     description[0][0]                \n",
      "__________________________________________________________________________________________________\n",
      "embedding (Embedding)           (None, 1, 77)        23716       Breed1[0][0]                     \n",
      "__________________________________________________________________________________________________\n",
      "flatten (Flatten)               (None, 5500)         0           word_embedding[0][0]             \n",
      "__________________________________________________________________________________________________\n",
      "tf_op_layer_Squeeze (TensorFlow [(None, 77)]         0           embedding[0][0]                  \n",
      "__________________________________________________________________________________________________\n",
      "description_features (Dense)    (None, 512)          2816512     flatten[0][0]                    \n",
      "__________________________________________________________________________________________________\n",
      "direct_features (InputLayer)    [(None, 10)]         0                                            \n",
      "__________________________________________________________________________________________________\n",
      "feature_map (Concatenate)       (None, 599)          0           tf_op_layer_Squeeze[0][0]        \n",
      "                                                                 description_features[0][0]       \n",
      "                                                                 direct_features[0][0]            \n",
      "__________________________________________________________________________________________________\n",
      "dense (Dense)                   (None, 128)          76800       feature_map[0][0]                \n",
      "__________________________________________________________________________________________________\n",
      "output (Dense)                  (None, 5)            645         dense[0][0]                      \n",
      "==================================================================================================\n",
      "Total params: 3,917,873\n",
      "Trainable params: 2,917,673\n",
      "Non-trainable params: 1,000,200\n",
      "__________________________________________________________________________________________________\n"
     ]
    }
   ],
   "source": [
    "model.compile(loss='categorical_crossentropy', \n",
    "              optimizer='nadam',\n",
    "              metrics=['accuracy'])\n",
    "model.summary()"
   ]
  },
  {
   "cell_type": "code",
   "execution_count": 17,
   "metadata": {},
   "outputs": [
    {
     "data": {
      "image/svg+xml": [
       "<svg height=\"402pt\" viewBox=\"0.00 0.00 634.00 483.00\" width=\"528pt\" xmlns=\"http://www.w3.org/2000/svg\" xmlns:xlink=\"http://www.w3.org/1999/xlink\">\n",
       "<g class=\"graph\" id=\"graph0\" transform=\"scale(.8333 .8333) rotate(0) translate(4 479)\">\n",
       "<title>G</title>\n",
       "<polygon fill=\"#ffffff\" points=\"-4,4 -4,-479 630,-479 630,4 -4,4\" stroke=\"transparent\"/>\n",
       "<!-- 139726024456848 -->\n",
       "<g class=\"node\" id=\"node1\">\n",
       "<title>139726024456848</title>\n",
       "<polygon fill=\"none\" points=\"19,-438.5 19,-474.5 163,-474.5 163,-438.5 19,-438.5\" stroke=\"#000000\"/>\n",
       "<text fill=\"#000000\" font-family=\"Times,serif\" font-size=\"14.00\" text-anchor=\"middle\" x=\"91\" y=\"-452.8\">description: InputLayer</text>\n",
       "</g>\n",
       "<!-- 139726025279472 -->\n",
       "<g class=\"node\" id=\"node3\">\n",
       "<title>139726025279472</title>\n",
       "<polygon fill=\"none\" points=\"0,-365.5 0,-401.5 182,-401.5 182,-365.5 0,-365.5\" stroke=\"#000000\"/>\n",
       "<text fill=\"#000000\" font-family=\"Times,serif\" font-size=\"14.00\" text-anchor=\"middle\" x=\"91\" y=\"-379.8\">word_embedding: Embedding</text>\n",
       "</g>\n",
       "<!-- 139726024456848&#45;&gt;139726025279472 -->\n",
       "<g class=\"edge\" id=\"edge1\">\n",
       "<title>139726024456848-&gt;139726025279472</title>\n",
       "<path d=\"M91,-438.4551C91,-430.3828 91,-420.6764 91,-411.6817\" fill=\"none\" stroke=\"#000000\"/>\n",
       "<polygon fill=\"#000000\" points=\"94.5001,-411.5903 91,-401.5904 87.5001,-411.5904 94.5001,-411.5903\" stroke=\"#000000\"/>\n",
       "</g>\n",
       "<!-- 139726177476904 -->\n",
       "<g class=\"node\" id=\"node2\">\n",
       "<title>139726177476904</title>\n",
       "<polygon fill=\"none\" points=\"256.5,-365.5 256.5,-401.5 379.5,-401.5 379.5,-365.5 256.5,-365.5\" stroke=\"#000000\"/>\n",
       "<text fill=\"#000000\" font-family=\"Times,serif\" font-size=\"14.00\" text-anchor=\"middle\" x=\"318\" y=\"-379.8\">Breed1: InputLayer</text>\n",
       "</g>\n",
       "<!-- 139726076791216 -->\n",
       "<g class=\"node\" id=\"node4\">\n",
       "<title>139726076791216</title>\n",
       "<polygon fill=\"none\" points=\"244,-292.5 244,-328.5 392,-328.5 392,-292.5 244,-292.5\" stroke=\"#000000\"/>\n",
       "<text fill=\"#000000\" font-family=\"Times,serif\" font-size=\"14.00\" text-anchor=\"middle\" x=\"318\" y=\"-306.8\">embedding: Embedding</text>\n",
       "</g>\n",
       "<!-- 139726177476904&#45;&gt;139726076791216 -->\n",
       "<g class=\"edge\" id=\"edge2\">\n",
       "<title>139726177476904-&gt;139726076791216</title>\n",
       "<path d=\"M318,-365.4551C318,-357.3828 318,-347.6764 318,-338.6817\" fill=\"none\" stroke=\"#000000\"/>\n",
       "<polygon fill=\"#000000\" points=\"321.5001,-338.5903 318,-328.5904 314.5001,-338.5904 321.5001,-338.5903\" stroke=\"#000000\"/>\n",
       "</g>\n",
       "<!-- 139726074456776 -->\n",
       "<g class=\"node\" id=\"node5\">\n",
       "<title>139726074456776</title>\n",
       "<polygon fill=\"none\" points=\"43,-292.5 43,-328.5 139,-328.5 139,-292.5 43,-292.5\" stroke=\"#000000\"/>\n",
       "<text fill=\"#000000\" font-family=\"Times,serif\" font-size=\"14.00\" text-anchor=\"middle\" x=\"91\" y=\"-306.8\">flatten: Flatten</text>\n",
       "</g>\n",
       "<!-- 139726025279472&#45;&gt;139726074456776 -->\n",
       "<g class=\"edge\" id=\"edge3\">\n",
       "<title>139726025279472-&gt;139726074456776</title>\n",
       "<path d=\"M91,-365.4551C91,-357.3828 91,-347.6764 91,-338.6817\" fill=\"none\" stroke=\"#000000\"/>\n",
       "<polygon fill=\"#000000\" points=\"94.5001,-338.5903 91,-328.5904 87.5001,-338.5904 94.5001,-338.5903\" stroke=\"#000000\"/>\n",
       "</g>\n",
       "<!-- 139726024532544 -->\n",
       "<g class=\"node\" id=\"node6\">\n",
       "<title>139726024532544</title>\n",
       "<polygon fill=\"none\" points=\"192.5,-219.5 192.5,-255.5 443.5,-255.5 443.5,-219.5 192.5,-219.5\" stroke=\"#000000\"/>\n",
       "<text fill=\"#000000\" font-family=\"Times,serif\" font-size=\"14.00\" text-anchor=\"middle\" x=\"318\" y=\"-233.8\">tf_op_layer_Squeeze: TensorFlowOpLayer</text>\n",
       "</g>\n",
       "<!-- 139726076791216&#45;&gt;139726024532544 -->\n",
       "<g class=\"edge\" id=\"edge4\">\n",
       "<title>139726076791216-&gt;139726024532544</title>\n",
       "<path d=\"M318,-292.4551C318,-284.3828 318,-274.6764 318,-265.6817\" fill=\"none\" stroke=\"#000000\"/>\n",
       "<polygon fill=\"#000000\" points=\"321.5001,-265.5903 318,-255.5904 314.5001,-265.5904 321.5001,-265.5903\" stroke=\"#000000\"/>\n",
       "</g>\n",
       "<!-- 139726076798848 -->\n",
       "<g class=\"node\" id=\"node7\">\n",
       "<title>139726076798848</title>\n",
       "<polygon fill=\"none\" points=\"7.5,-219.5 7.5,-255.5 174.5,-255.5 174.5,-219.5 7.5,-219.5\" stroke=\"#000000\"/>\n",
       "<text fill=\"#000000\" font-family=\"Times,serif\" font-size=\"14.00\" text-anchor=\"middle\" x=\"91\" y=\"-233.8\">description_features: Dense</text>\n",
       "</g>\n",
       "<!-- 139726074456776&#45;&gt;139726076798848 -->\n",
       "<g class=\"edge\" id=\"edge5\">\n",
       "<title>139726074456776-&gt;139726076798848</title>\n",
       "<path d=\"M91,-292.4551C91,-284.3828 91,-274.6764 91,-265.6817\" fill=\"none\" stroke=\"#000000\"/>\n",
       "<polygon fill=\"#000000\" points=\"94.5001,-265.5903 91,-255.5904 87.5001,-265.5904 94.5001,-265.5903\" stroke=\"#000000\"/>\n",
       "</g>\n",
       "<!-- 139726024740816 -->\n",
       "<g class=\"node\" id=\"node9\">\n",
       "<title>139726024740816</title>\n",
       "<polygon fill=\"none\" points=\"238.5,-146.5 238.5,-182.5 397.5,-182.5 397.5,-146.5 238.5,-146.5\" stroke=\"#000000\"/>\n",
       "<text fill=\"#000000\" font-family=\"Times,serif\" font-size=\"14.00\" text-anchor=\"middle\" x=\"318\" y=\"-160.8\">feature_map: Concatenate</text>\n",
       "</g>\n",
       "<!-- 139726024532544&#45;&gt;139726024740816 -->\n",
       "<g class=\"edge\" id=\"edge6\">\n",
       "<title>139726024532544-&gt;139726024740816</title>\n",
       "<path d=\"M318,-219.4551C318,-211.3828 318,-201.6764 318,-192.6817\" fill=\"none\" stroke=\"#000000\"/>\n",
       "<polygon fill=\"#000000\" points=\"321.5001,-192.5903 318,-182.5904 314.5001,-192.5904 321.5001,-192.5903\" stroke=\"#000000\"/>\n",
       "</g>\n",
       "<!-- 139726076798848&#45;&gt;139726024740816 -->\n",
       "<g class=\"edge\" id=\"edge7\">\n",
       "<title>139726076798848-&gt;139726024740816</title>\n",
       "<path d=\"M147.1124,-219.4551C178.8982,-209.2332 218.8329,-196.3907 252.103,-185.6916\" fill=\"none\" stroke=\"#000000\"/>\n",
       "<polygon fill=\"#000000\" points=\"253.2981,-188.9838 261.7464,-182.5904 251.155,-182.3199 253.2981,-188.9838\" stroke=\"#000000\"/>\n",
       "</g>\n",
       "<!-- 139726110166936 -->\n",
       "<g class=\"node\" id=\"node8\">\n",
       "<title>139726110166936</title>\n",
       "<polygon fill=\"none\" points=\"462,-219.5 462,-255.5 626,-255.5 626,-219.5 462,-219.5\" stroke=\"#000000\"/>\n",
       "<text fill=\"#000000\" font-family=\"Times,serif\" font-size=\"14.00\" text-anchor=\"middle\" x=\"544\" y=\"-233.8\">direct_features: InputLayer</text>\n",
       "</g>\n",
       "<!-- 139726110166936&#45;&gt;139726024740816 -->\n",
       "<g class=\"edge\" id=\"edge8\">\n",
       "<title>139726110166936-&gt;139726024740816</title>\n",
       "<path d=\"M488.1348,-219.4551C456.489,-209.2332 416.7302,-196.3907 383.6067,-185.6916\" fill=\"none\" stroke=\"#000000\"/>\n",
       "<polygon fill=\"#000000\" points=\"384.5975,-182.3336 374.0058,-182.5904 382.4458,-188.9947 384.5975,-182.3336\" stroke=\"#000000\"/>\n",
       "</g>\n",
       "<!-- 139726074454368 -->\n",
       "<g class=\"node\" id=\"node10\">\n",
       "<title>139726074454368</title>\n",
       "<polygon fill=\"none\" points=\"273.5,-73.5 273.5,-109.5 362.5,-109.5 362.5,-73.5 273.5,-73.5\" stroke=\"#000000\"/>\n",
       "<text fill=\"#000000\" font-family=\"Times,serif\" font-size=\"14.00\" text-anchor=\"middle\" x=\"318\" y=\"-87.8\">dense: Dense</text>\n",
       "</g>\n",
       "<!-- 139726024740816&#45;&gt;139726074454368 -->\n",
       "<g class=\"edge\" id=\"edge9\">\n",
       "<title>139726024740816-&gt;139726074454368</title>\n",
       "<path d=\"M318,-146.4551C318,-138.3828 318,-128.6764 318,-119.6817\" fill=\"none\" stroke=\"#000000\"/>\n",
       "<polygon fill=\"#000000\" points=\"321.5001,-119.5903 318,-109.5904 314.5001,-119.5904 321.5001,-119.5903\" stroke=\"#000000\"/>\n",
       "</g>\n",
       "<!-- 139726074455656 -->\n",
       "<g class=\"node\" id=\"node11\">\n",
       "<title>139726074455656</title>\n",
       "<polygon fill=\"none\" points=\"272,-.5 272,-36.5 364,-36.5 364,-.5 272,-.5\" stroke=\"#000000\"/>\n",
       "<text fill=\"#000000\" font-family=\"Times,serif\" font-size=\"14.00\" text-anchor=\"middle\" x=\"318\" y=\"-14.8\">output: Dense</text>\n",
       "</g>\n",
       "<!-- 139726074454368&#45;&gt;139726074455656 -->\n",
       "<g class=\"edge\" id=\"edge10\">\n",
       "<title>139726074454368-&gt;139726074455656</title>\n",
       "<path d=\"M318,-73.4551C318,-65.3828 318,-55.6764 318,-46.6817\" fill=\"none\" stroke=\"#000000\"/>\n",
       "<polygon fill=\"#000000\" points=\"321.5001,-46.5903 318,-36.5904 314.5001,-46.5904 321.5001,-46.5903\" stroke=\"#000000\"/>\n",
       "</g>\n",
       "</g>\n",
       "</svg>"
      ],
      "text/plain": [
       "<IPython.core.display.SVG object>"
      ]
     },
     "execution_count": 17,
     "metadata": {},
     "output_type": "execute_result"
    }
   ],
   "source": [
    "SVG(tf.keras.utils.model_to_dot(model, dpi=60).create(prog='dot', format='svg'))"
   ]
  },
  {
   "cell_type": "markdown",
   "metadata": {},
   "source": [
    "## Entrenando el modelo\n",
    "\n",
    "Para entrenar el modelo es igual al caso anterior, ya generados el conjunto de datos correspondiente. Lo entrenamos con ayuda de `mlflow`."
   ]
  },
  {
   "cell_type": "code",
   "execution_count": 18,
   "metadata": {},
   "outputs": [
    {
     "name": "stdout",
     "output_type": "stream",
     "text": [
      "INFO: 'awesome_advanced_approach' does not exist. Creating a new experiment\n",
      "Epoch 1/10\n",
      "67/67 [==============================] - 9s 129ms/step - loss: 1.4930 - accuracy: 0.2983\n",
      "Epoch 2/10\n",
      "67/67 [==============================] - 7s 108ms/step - loss: 1.2716 - accuracy: 0.4508\n",
      "Epoch 3/10\n",
      "67/67 [==============================] - 7s 110ms/step - loss: 1.0203 - accuracy: 0.5942\n",
      "Epoch 4/10\n",
      "67/67 [==============================] - 7s 110ms/step - loss: 0.7185 - accuracy: 0.7386\n",
      "Epoch 5/10\n",
      "67/67 [==============================] - 7s 109ms/step - loss: 0.4424 - accuracy: 0.8495\n",
      "Epoch 6/10\n",
      "67/67 [==============================] - 7s 109ms/step - loss: 0.2695 - accuracy: 0.9168\n",
      "Epoch 7/10\n",
      "67/67 [==============================] - 7s 108ms/step - loss: 0.1812 - accuracy: 0.9500\n",
      "Epoch 8/10\n",
      "67/67 [==============================] - 7s 104ms/step - loss: 0.1520 - accuracy: 0.9550\n",
      "Epoch 9/10\n",
      "67/67 [==============================] - 7s 110ms/step - loss: 0.1197 - accuracy: 0.9620\n",
      "Epoch 10/10\n",
      "67/67 [==============================] - 7s 110ms/step - loss: 0.0965 - accuracy: 0.9647\n",
      "\n",
      "*** Validation loss: 0.11066074647447642 - accuracy: 0.9617382884025574\n"
     ]
    }
   ],
   "source": [
    "import mlflow\n",
    "\n",
    "mlflow.set_experiment('awesome_advanced_approach')\n",
    "\n",
    "with mlflow.start_run(nested=True):\n",
    "    # Log model hiperparameters first\n",
    "    mlflow.log_param('description_features_layer_size', DESCRIPTION_FEATURES_LAYER_SIZE)\n",
    "    mlflow.log_param('hidden_layer_size', HIDDEN_LAYER_SIZE)\n",
    "    mlflow.log_param('embedded_columns', embedded_columns)\n",
    "    mlflow.log_param('one_hot_columns', one_hot_columns)\n",
    "    # mlflow.log_param('numerical_columns', numerical_columns)  # Not using these yet\n",
    "    \n",
    "    # Train\n",
    "    epochs = 10\n",
    "    history = model.fit(train_dataset, epochs=epochs)\n",
    "    \n",
    "    # Evaluate\n",
    "    loss, accuracy = model.evaluate(dev_dataset, verbose=0)\n",
    "    print(\"\\n*** Validation loss: {} - accuracy: {}\".format(loss, accuracy))\n",
    "    mlflow.log_metric('epochs', epochs)\n",
    "    mlflow.log_metric('train_loss', history.history[\"loss\"][-1])\n",
    "    mlflow.log_metric('train_accuracy', history.history[\"accuracy\"][-1])\n",
    "    mlflow.log_metric('validation_loss', loss)\n",
    "    mlflow.log_metric('validation_accuracy', accuracy)"
   ]
  },
  {
   "cell_type": "markdown",
   "metadata": {},
   "source": [
    "## Evaluando el modelo sobre los datos de evaluación para la competencia\n",
    "\n",
    "Una vez que tenemos definido nuestro modelo, el último paso es ponerlo a prueba en los datos de evaluación para generar un archivo para enviar a la competencia Kaggle.\n",
    "\n",
    "Comenzamos cargando el conjunto de datos."
   ]
  },
  {
   "cell_type": "code",
   "execution_count": 19,
   "metadata": {},
   "outputs": [
    {
     "data": {
      "text/html": [
       "<div>\n",
       "<style scoped>\n",
       "    .dataframe tbody tr th:only-of-type {\n",
       "        vertical-align: middle;\n",
       "    }\n",
       "\n",
       "    .dataframe tbody tr th {\n",
       "        vertical-align: top;\n",
       "    }\n",
       "\n",
       "    .dataframe thead th {\n",
       "        text-align: right;\n",
       "    }\n",
       "</style>\n",
       "<table border=\"1\" class=\"dataframe\">\n",
       "  <thead>\n",
       "    <tr style=\"text-align: right;\">\n",
       "      <th></th>\n",
       "      <th>Type</th>\n",
       "      <th>Age</th>\n",
       "      <th>Breed1</th>\n",
       "      <th>Breed2</th>\n",
       "      <th>Gender</th>\n",
       "      <th>Color1</th>\n",
       "      <th>Color2</th>\n",
       "      <th>Color3</th>\n",
       "      <th>MaturitySize</th>\n",
       "      <th>FurLength</th>\n",
       "      <th>Vaccinated</th>\n",
       "      <th>Dewormed</th>\n",
       "      <th>Sterilized</th>\n",
       "      <th>Health</th>\n",
       "      <th>Quantity</th>\n",
       "      <th>Fee</th>\n",
       "      <th>State</th>\n",
       "      <th>Description</th>\n",
       "      <th>PID</th>\n",
       "    </tr>\n",
       "  </thead>\n",
       "  <tbody>\n",
       "    <tr>\n",
       "      <th>0</th>\n",
       "      <td>2</td>\n",
       "      <td>1</td>\n",
       "      <td>265</td>\n",
       "      <td>0</td>\n",
       "      <td>1</td>\n",
       "      <td>1</td>\n",
       "      <td>2</td>\n",
       "      <td>0</td>\n",
       "      <td>2</td>\n",
       "      <td>2</td>\n",
       "      <td>3</td>\n",
       "      <td>3</td>\n",
       "      <td>3</td>\n",
       "      <td>1</td>\n",
       "      <td>1</td>\n",
       "      <td>0</td>\n",
       "      <td>41401</td>\n",
       "      <td>I just found it alone yesterday near my apartm...</td>\n",
       "      <td>1</td>\n",
       "    </tr>\n",
       "    <tr>\n",
       "      <th>1</th>\n",
       "      <td>1</td>\n",
       "      <td>1</td>\n",
       "      <td>307</td>\n",
       "      <td>0</td>\n",
       "      <td>1</td>\n",
       "      <td>2</td>\n",
       "      <td>7</td>\n",
       "      <td>0</td>\n",
       "      <td>2</td>\n",
       "      <td>2</td>\n",
       "      <td>1</td>\n",
       "      <td>1</td>\n",
       "      <td>2</td>\n",
       "      <td>1</td>\n",
       "      <td>1</td>\n",
       "      <td>0</td>\n",
       "      <td>41326</td>\n",
       "      <td>Their pregnant mother was dumped by her irresp...</td>\n",
       "      <td>2</td>\n",
       "    </tr>\n",
       "    <tr>\n",
       "      <th>2</th>\n",
       "      <td>1</td>\n",
       "      <td>0</td>\n",
       "      <td>307</td>\n",
       "      <td>0</td>\n",
       "      <td>2</td>\n",
       "      <td>1</td>\n",
       "      <td>2</td>\n",
       "      <td>7</td>\n",
       "      <td>2</td>\n",
       "      <td>1</td>\n",
       "      <td>2</td>\n",
       "      <td>2</td>\n",
       "      <td>2</td>\n",
       "      <td>1</td>\n",
       "      <td>6</td>\n",
       "      <td>0</td>\n",
       "      <td>41326</td>\n",
       "      <td>Siu Pak just give birth on 13/6/10 to 6puppies...</td>\n",
       "      <td>7</td>\n",
       "    </tr>\n",
       "    <tr>\n",
       "      <th>3</th>\n",
       "      <td>2</td>\n",
       "      <td>12</td>\n",
       "      <td>265</td>\n",
       "      <td>0</td>\n",
       "      <td>2</td>\n",
       "      <td>1</td>\n",
       "      <td>7</td>\n",
       "      <td>0</td>\n",
       "      <td>2</td>\n",
       "      <td>2</td>\n",
       "      <td>3</td>\n",
       "      <td>3</td>\n",
       "      <td>3</td>\n",
       "      <td>1</td>\n",
       "      <td>1</td>\n",
       "      <td>0</td>\n",
       "      <td>41326</td>\n",
       "      <td>Very manja and gentle stray cat found, we woul...</td>\n",
       "      <td>9</td>\n",
       "    </tr>\n",
       "    <tr>\n",
       "      <th>4</th>\n",
       "      <td>2</td>\n",
       "      <td>3</td>\n",
       "      <td>264</td>\n",
       "      <td>0</td>\n",
       "      <td>2</td>\n",
       "      <td>1</td>\n",
       "      <td>2</td>\n",
       "      <td>5</td>\n",
       "      <td>3</td>\n",
       "      <td>3</td>\n",
       "      <td>1</td>\n",
       "      <td>1</td>\n",
       "      <td>2</td>\n",
       "      <td>1</td>\n",
       "      <td>1</td>\n",
       "      <td>50</td>\n",
       "      <td>41326</td>\n",
       "      <td>Kali is a super playful kitten who is on the g...</td>\n",
       "      <td>11</td>\n",
       "    </tr>\n",
       "  </tbody>\n",
       "</table>\n",
       "</div>"
      ],
      "text/plain": [
       "   Type  Age  Breed1  Breed2  Gender  Color1  Color2  Color3  MaturitySize  \\\n",
       "0     2    1     265       0       1       1       2       0             2   \n",
       "1     1    1     307       0       1       2       7       0             2   \n",
       "2     1    0     307       0       2       1       2       7             2   \n",
       "3     2   12     265       0       2       1       7       0             2   \n",
       "4     2    3     264       0       2       1       2       5             3   \n",
       "\n",
       "   FurLength  Vaccinated  Dewormed  Sterilized  Health  Quantity  Fee  State  \\\n",
       "0          2           3         3           3       1         1    0  41401   \n",
       "1          2           1         1           2       1         1    0  41326   \n",
       "2          1           2         2           2       1         6    0  41326   \n",
       "3          2           3         3           3       1         1    0  41326   \n",
       "4          3           1         1           2       1         1   50  41326   \n",
       "\n",
       "                                         Description  PID  \n",
       "0  I just found it alone yesterday near my apartm...    1  \n",
       "1  Their pregnant mother was dumped by her irresp...    2  \n",
       "2  Siu Pak just give birth on 13/6/10 to 6puppies...    7  \n",
       "3  Very manja and gentle stray cat found, we woul...    9  \n",
       "4  Kali is a super playful kitten who is on the g...   11  "
      ]
     },
     "execution_count": 19,
     "metadata": {},
     "output_type": "execute_result"
    }
   ],
   "source": [
    "test_dataset = pd.read_csv(os.path.join(DATA_DIRECTORY, 'test.csv'))\n",
    "test_dataset.head()"
   ]
  },
  {
   "cell_type": "markdown",
   "metadata": {},
   "source": [
    "## Creamos el conjunto de datos para darle al modelo entrenado\n",
    "\n",
    "Tenemos que preprocesar los datos de evaluación de la misma manera que preprocesamos los de entrenamiento (para que sean compatibles con lo esperado por el modelo). Por suerte, es tan simple como hacer un par de modificaciones a lo ya hecho previamente. Lo único que tenemos que tener en cuenta es que ahora el conjunto de datos no generará una etiqueta."
   ]
  },
  {
   "cell_type": "code",
   "execution_count": 20,
   "metadata": {},
   "outputs": [
    {
     "name": "stdout",
     "output_type": "stream",
     "text": [
      "{'Breed1': <tf.Tensor: id=3837, shape=(1,), dtype=int32, numpy=array([265], dtype=int32)>,\n",
      " 'description': <tf.Tensor: id=3838, shape=(13,), dtype=int32, numpy=\n",
      "array([ 116,  429, 1371,  991,  189,    1, 7873, 1043,   62,  600,  728,\n",
      "          5,    1], dtype=int32)>,\n",
      " 'direct_features': <tf.Tensor: id=3839, shape=(10,), dtype=float32, numpy=array([1., 0., 0., 1., 0., 0., 0., 0., 0., 0.], dtype=float32)>}\n",
      "\n",
      "{'Breed1': <tf.Tensor: id=3840, shape=(1,), dtype=int32, numpy=array([307], dtype=int32)>,\n",
      " 'description': <tf.Tensor: id=3841, shape=(47,), dtype=int32, numpy=\n",
      "array([ 945,  154,  256, 2049,  105,  403,  991, 4678,  552,  545,    1,\n",
      "        142,  134,  403,    1,  118,  210,   73,    1,  533,  387,   35,\n",
      "        394,  272,   98,   62,    1,  464,  411,  151, 1401,   42,  253,\n",
      "          1,  825,   35, 4660,  247, 4156, 1402, 1403,    1,   43,   52,\n",
      "        599,   38,    1], dtype=int32)>,\n",
      " 'direct_features': <tf.Tensor: id=3842, shape=(10,), dtype=float32, numpy=array([1., 0., 0., 0., 1., 0., 0., 0., 0., 0.], dtype=float32)>}\n",
      "\n"
     ]
    }
   ],
   "source": [
    "# First tokenize the description\n",
    "\n",
    "test_dataset[\"TokenizedDescription\"] = test_dataset[\"Description\"]\\\n",
    "    .fillna(value=\"\").apply(tokenize_description)\n",
    "\n",
    "# Generate the basic TF dataset\n",
    "\n",
    "tf_test_dataset = tf.data.Dataset.from_generator(\n",
    "    lambda: dataset_generator(test_dataset, True),\n",
    "    output_types=instance_types  # It should have the same instance types\n",
    ")\n",
    "\n",
    "for data in tf_test_dataset.take(2):  # The dataset only returns a data instance now (no target)\n",
    "    pprint(data)\n",
    "    print()"
   ]
  },
  {
   "cell_type": "markdown",
   "metadata": {},
   "source": [
    "## Padding batches\n",
    "\n",
    "Por último, y previo a probar el modelo sobre los datos de evaluación, generamos el conjunto de datos \"rellenado\". \n",
    "\n",
    "A diferencia de los datos de entrenamiento y validación, en este caso no permutamos las instancias, pues necesitamos saber a que `PID` pertenece cada una.\n",
    "\n",
    "Por otra parte, utilizamos los mismos valores de `padding_shapes` y `padding_values` para el primer componente (el de los datos), ignorando el valor del segundo componente (el de las etiquetas)."
   ]
  },
  {
   "cell_type": "code",
   "execution_count": 21,
   "metadata": {},
   "outputs": [],
   "source": [
    "test_data = tf_test_dataset.padded_batch(\n",
    "    BATCH_SIZE, \n",
    "    padded_shapes=padding_shapes[0], \n",
    "    padding_values=padding_values[0]\n",
    ")"
   ]
  },
  {
   "cell_type": "markdown",
   "metadata": {},
   "source": [
    "## Correr el modelo\n",
    "\n",
    "El último paso es correr el modelo sobre los datos de evaluación para conseguir las predicciones a enviar a la competencia."
   ]
  },
  {
   "cell_type": "code",
   "execution_count": 22,
   "metadata": {},
   "outputs": [],
   "source": [
    "test_dataset[\"AdoptionSpeed\"] = model.predict(test_data).argmax(axis=1)\n",
    "\n",
    "test_dataset.to_csv(\"./submission.csv\", index=False, columns=[\"PID\", \"AdoptionSpeed\"])"
   ]
  }
 ],
 "metadata": {
  "kernelspec": {
   "display_name": "Python 3",
   "language": "python",
   "name": "python3"
  },
  "language_info": {
   "codemirror_mode": {
    "name": "ipython",
    "version": 3
   },
   "file_extension": ".py",
   "mimetype": "text/x-python",
   "name": "python",
   "nbconvert_exporter": "python",
   "pygments_lexer": "ipython3",
   "version": "3.7.3"
  }
 },
 "nbformat": 4,
 "nbformat_minor": 2
}
